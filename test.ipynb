{
 "cells": [
  {
   "cell_type": "code",
   "execution_count": 15,
   "metadata": {},
   "outputs": [],
   "source": [
    "import numpy as np\n",
    "import cv2\n",
    "\n",
    "# 0 -> Original video\n",
    "# 1 -> Video with Object Detection\n",
    "# 2 -> Video with MaskRCNN\n",
    "# 3 -> Video with Patchmatch\n",
    "\n",
    "vid_paths = [r\"C:\\Users\\monac\\work\\final_year_project\\videos\\0\", r\"C:\\Users\\monac\\work\\final_year_project\\videos\\1\"]\n",
    "\n",
    "class Controller:\n",
    "    def __init__(self, paths) -> None:\n",
    "        self.selected_scene, self.selected_cache = 0, 1\n",
    "        # for each scene in a scene path\n",
    "        self.all_scenes = []\n",
    "        for path in paths:\n",
    "            scene = []\n",
    "            # for each cache in a scene\n",
    "            for i in range(2):\n",
    "                # read all cache\n",
    "                cache = self.pack_frames(path+str(i)+\".mp4\")\n",
    "                scene.append(cache)\n",
    "            # save it all in scenes\n",
    "            self.all_scenes.append(scene)\n",
    "        pass\n",
    "\n",
    "    def pack_frames(self, path):\n",
    "        reader = cv2.VideoCapture(path)\n",
    "        cache = []\n",
    "        while True:\n",
    "            success, frame = reader.read()\n",
    "            if not success:\n",
    "                break\n",
    "            else:\n",
    "                cache.append(frame)\n",
    "        reader.release()\n",
    "        return cache\n",
    "\n",
    "    def gen_frames(self):\n",
    "        counter = 0\n",
    "        while True:\n",
    "            scene = self.all_scenes[self.selected_scene]\n",
    "            cache = scene[self.selected_cache]\n",
    "            origi = scene[0]\n",
    "\n",
    "            if counter == len(cache)-1:\n",
    "                counter = 0\n",
    "            print(\"status ->\", counter, len(cache)) # debug)\n",
    "            origi_frame = origi[counter]\n",
    "            cache_frame = cache[counter]\n",
    "            side_by_side_frame = np.concatenate((origi_frame, cache_frame), axis=1)\n",
    "            print(side_by_side_frame.shape())\n",
    "            yield self.package_frame(side_by_side_frame)\n",
    "\n",
    "    def package_frame(self, frame):\n",
    "        ret, buffer = cv2.imencode('.jpg', frame)\n",
    "        frame = buffer.tobytes()\n",
    "        return (b'--frame\\r\\n'b'Content-Type: image/jpeg\\r\\n\\r\\n' + frame + b'\\r\\n')"
   ]
  },
  {
   "cell_type": "code",
   "execution_count": 16,
   "metadata": {},
   "outputs": [
    {
     "name": "stdout",
     "output_type": "stream",
     "text": [
      "169\n",
      "169\n",
      "169\n",
      "169\n"
     ]
    }
   ],
   "source": [
    "controller = Controller(vid_paths)"
   ]
  },
  {
   "cell_type": "code",
   "execution_count": 12,
   "metadata": {},
   "outputs": [
    {
     "data": {
      "text/plain": [
       "[[[], []], [[], []]]"
      ]
     },
     "execution_count": 12,
     "metadata": {},
     "output_type": "execute_result"
    }
   ],
   "source": [
    "controller.all_scenes"
   ]
  },
  {
   "cell_type": "code",
   "execution_count": 7,
   "metadata": {},
   "outputs": [
    {
     "name": "stdout",
     "output_type": "stream",
     "text": [
      "status -> 0 0\n"
     ]
    },
    {
     "ename": "IndexError",
     "evalue": "list index out of range",
     "output_type": "error",
     "traceback": [
      "\u001b[1;31m---------------------------------------------------------------------------\u001b[0m",
      "\u001b[1;31mIndexError\u001b[0m                                Traceback (most recent call last)",
      "\u001b[1;32mc:\\Users\\monac\\work\\final_year_project\\test.ipynb Cell 3'\u001b[0m in \u001b[0;36m<module>\u001b[1;34m\u001b[0m\n\u001b[1;32m----> <a href='vscode-notebook-cell:/c%3A/Users/monac/work/final_year_project/test.ipynb#ch0000001?line=0'>1</a>\u001b[0m [\u001b[39mlen\u001b[39m(i) \u001b[39mfor\u001b[39;00m i \u001b[39min\u001b[39;00m controller\u001b[39m.\u001b[39mgen_frames()]\n",
      "\u001b[1;32mc:\\Users\\monac\\work\\final_year_project\\test.ipynb Cell 3'\u001b[0m in \u001b[0;36m<listcomp>\u001b[1;34m(.0)\u001b[0m\n\u001b[1;32m----> <a href='vscode-notebook-cell:/c%3A/Users/monac/work/final_year_project/test.ipynb#ch0000001?line=0'>1</a>\u001b[0m [\u001b[39mlen\u001b[39m(i) \u001b[39mfor\u001b[39;00m i \u001b[39min\u001b[39;00m controller\u001b[39m.\u001b[39mgen_frames()]\n",
      "\u001b[1;32mc:\\Users\\monac\\work\\final_year_project\\test.ipynb Cell 1'\u001b[0m in \u001b[0;36mController.gen_frames\u001b[1;34m(self)\u001b[0m\n\u001b[0;32m     <a href='vscode-notebook-cell:/c%3A/Users/monac/work/final_year_project/test.ipynb#ch0000000?line=45'>46</a>\u001b[0m     counter \u001b[39m=\u001b[39m \u001b[39m0\u001b[39m\n\u001b[0;32m     <a href='vscode-notebook-cell:/c%3A/Users/monac/work/final_year_project/test.ipynb#ch0000000?line=46'>47</a>\u001b[0m \u001b[39mprint\u001b[39m(\u001b[39m\"\u001b[39m\u001b[39mstatus ->\u001b[39m\u001b[39m\"\u001b[39m, counter, \u001b[39mlen\u001b[39m(cache)) \u001b[39m# debug)\u001b[39;00m\n\u001b[1;32m---> <a href='vscode-notebook-cell:/c%3A/Users/monac/work/final_year_project/test.ipynb#ch0000000?line=47'>48</a>\u001b[0m origi_frame \u001b[39m=\u001b[39m origi[counter]\n\u001b[0;32m     <a href='vscode-notebook-cell:/c%3A/Users/monac/work/final_year_project/test.ipynb#ch0000000?line=48'>49</a>\u001b[0m cache_frame \u001b[39m=\u001b[39m cache[counter]\n\u001b[0;32m     <a href='vscode-notebook-cell:/c%3A/Users/monac/work/final_year_project/test.ipynb#ch0000000?line=49'>50</a>\u001b[0m side_by_side_frame \u001b[39m=\u001b[39m np\u001b[39m.\u001b[39mconcatenate((origi_frame, cache_frame), axis\u001b[39m=\u001b[39m\u001b[39m1\u001b[39m)\n",
      "\u001b[1;31mIndexError\u001b[0m: list index out of range"
     ]
    }
   ],
   "source": [
    "[len(i) for i in controller.gen_frames()]"
   ]
  }
 ],
 "metadata": {
  "interpreter": {
   "hash": "f69d7242faccd2468572a92be7a919bc74c86a9adb1c769d533625ca9a9e000b"
  },
  "kernelspec": {
   "display_name": "Python 3.9.10 64-bit (system)",
   "language": "python",
   "name": "python3"
  },
  "language_info": {
   "codemirror_mode": {
    "name": "ipython",
    "version": 3
   },
   "file_extension": ".py",
   "mimetype": "text/x-python",
   "name": "python",
   "nbconvert_exporter": "python",
   "pygments_lexer": "ipython3",
   "version": "3.9.10"
  },
  "orig_nbformat": 4
 },
 "nbformat": 4,
 "nbformat_minor": 2
}
